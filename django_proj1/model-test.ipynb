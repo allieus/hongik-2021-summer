{
 "cells": [
  {
   "cell_type": "code",
   "execution_count": 3,
   "id": "01a06cd8",
   "metadata": {},
   "outputs": [],
   "source": [
    "# manage.py 가 있는 경로가 아닌\n",
    "# 다른 경로에서 쥬피터를 띄우셨다면 ...\n",
    "\n",
    "# import sys\n",
    "# # sys.path.insert(0, \"장고 프로젝트 경로를 절대 경로로 지정\")\n",
    "# sys.path.insert(0, \"c:/Dev/django_proj1\")"
   ]
  },
  {
   "cell_type": "code",
   "execution_count": 4,
   "id": "ec12b3f6",
   "metadata": {},
   "outputs": [],
   "source": [
    "import os\n",
    "\n",
    "os.environ[\"DJANGO_ALLOW_ASYNC_UNSAFE\"] = \"true\"\n",
    "os.environ[\"DJANGO_SETTINGS_MODULE\"] = \"django_proj1.settings\"  # settings가 있는 폴더명을 포함해서 지정\n",
    "\n",
    "import django\n",
    "django.setup()"
   ]
  },
  {
   "cell_type": "code",
   "execution_count": 5,
   "id": "9e0af7d8",
   "metadata": {},
   "outputs": [],
   "source": [
    "from shop.models import Item"
   ]
  },
  {
   "cell_type": "code",
   "execution_count": 8,
   "id": "6e2b0d85",
   "metadata": {},
   "outputs": [
    {
     "name": "stdout",
     "output_type": "stream",
     "text": [
      "[반스 공식온라인스토어]코어클래식 에라 True\n",
      "다른 신발 False\n"
     ]
    }
   ],
   "source": [
    "qs = Item.objects.all()  # WHERE 조건없이 SELECT\n",
    "\n",
    "for item in qs:\n",
    "    print(item, item.is_public)"
   ]
  },
  {
   "cell_type": "code",
   "execution_count": 9,
   "id": "0434d973",
   "metadata": {},
   "outputs": [
    {
     "name": "stdout",
     "output_type": "stream",
     "text": [
      "다른 신발 False\n"
     ]
    }
   ],
   "source": [
    "# is_public=False 인 Item만 순회\n",
    "\n",
    "qs = Item.objects.filter(is_public=False)\n",
    "\n",
    "for item in qs:\n",
    "    print(item, item.is_public)"
   ]
  },
  {
   "cell_type": "code",
   "execution_count": null,
   "id": "abe327d0",
   "metadata": {},
   "outputs": [],
   "source": [
    "# QuerySet.get()  # 1개임을 기대한다. 0개면 DoesNotExist 에러. 2개 이상이면 MultipleObjectReturnd 에러."
   ]
  },
  {
   "cell_type": "code",
   "execution_count": null,
   "id": "ffedb827",
   "metadata": {},
   "outputs": [],
   "source": []
  },
  {
   "cell_type": "code",
   "execution_count": 10,
   "id": "a5797804",
   "metadata": {},
   "outputs": [],
   "source": [
    "from shop.models import Review"
   ]
  },
  {
   "cell_type": "code",
   "execution_count": 15,
   "id": "e79be980",
   "metadata": {},
   "outputs": [
    {
     "name": "stdout",
     "output_type": "stream",
     "text": [
      "Review object (1) 반스 신발 정말 좋아요!!! [반스 공식온라인스토어]코어클래식 에라\n",
      "Review object (2) 반스 신발 정말 좋아요!!! (2) [반스 공식온라인스토어]코어클래식 에라\n",
      "Review object (3) 다른 신발도 신어볼까? (1) 다른 신발\n"
     ]
    }
   ],
   "source": [
    "# 전체 리뷰\n",
    "\n",
    "qs = Review.objects.all()\n",
    "\n",
    "for review in qs:\n",
    "    print(review, review.message, review.item)"
   ]
  },
  {
   "cell_type": "code",
   "execution_count": 19,
   "id": "0e9319f6",
   "metadata": {},
   "outputs": [
    {
     "name": "stdout",
     "output_type": "stream",
     "text": [
      "Review object (1) [반스 공식온라인스토어]코어클래식 에라\n",
      "Review object (2) [반스 공식온라인스토어]코어클래식 에라\n"
     ]
    }
   ],
   "source": [
    "# item#1 의 리뷰 목록을 얻는 방법 #1\n",
    "\n",
    "qs = Review.objects.filter(item__pk=1)\n",
    "\n",
    "for review in qs:\n",
    "    print(review, review.item)"
   ]
  },
  {
   "cell_type": "code",
   "execution_count": 20,
   "id": "f48b5197",
   "metadata": {},
   "outputs": [
    {
     "name": "stdout",
     "output_type": "stream",
     "text": [
      "Review object (1) [반스 공식온라인스토어]코어클래식 에라\n",
      "Review object (2) [반스 공식온라인스토어]코어클래식 에라\n"
     ]
    }
   ],
   "source": [
    "# item#1 의 리뷰 목록을 얻는 방법 #2\n",
    "\n",
    "item = Item.objects.get(pk=1)\n",
    "\n",
    "qs = Review.objects.filter(item=item)\n",
    "\n",
    "for review in qs:\n",
    "    print(review, review.item)"
   ]
  },
  {
   "cell_type": "code",
   "execution_count": 22,
   "id": "1fb4c9ff",
   "metadata": {},
   "outputs": [
    {
     "name": "stdout",
     "output_type": "stream",
     "text": [
      "Review object (1) [반스 공식온라인스토어]코어클래식 에라\n",
      "Review object (2) [반스 공식온라인스토어]코어클래식 에라\n"
     ]
    }
   ],
   "source": [
    "# item#1 의 리뷰 목록을 얻는 방법 #3   <- 이 방법을 이야기할려고, 빌드업.\n",
    "\n",
    "item = Item.objects.get(pk=1)\n",
    "\n",
    "qs = item.review_set.all()\n",
    "\n",
    "for review in qs:\n",
    "    print(review, review.item)"
   ]
  },
  {
   "cell_type": "code",
   "execution_count": null,
   "id": "4bbf7eda",
   "metadata": {},
   "outputs": [],
   "source": []
  }
 ],
 "metadata": {
  "kernelspec": {
   "display_name": "Python 3",
   "language": "python",
   "name": "python3"
  },
  "language_info": {
   "codemirror_mode": {
    "name": "ipython",
    "version": 3
   },
   "file_extension": ".py",
   "mimetype": "text/x-python",
   "name": "python",
   "nbconvert_exporter": "python",
   "pygments_lexer": "ipython3",
   "version": "3.9.4"
  }
 },
 "nbformat": 4,
 "nbformat_minor": 5
}
